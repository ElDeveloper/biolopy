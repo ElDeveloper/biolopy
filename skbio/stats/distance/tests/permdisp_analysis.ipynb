{
 "cells": [
  {
   "cell_type": "code",
   "execution_count": 89,
   "metadata": {
    "collapsed": false
   },
   "outputs": [],
   "source": [
    "# this notebook stores some analysis i am running for permdisp. As pf right now (mar-28-18),the results\n",
    "# between permdisp in skbio and permdisp in qiime1 which uses betadisper do not agree for randomly generated \n",
    "# symetric distance matrices. Trying to figure out why that is\n",
    "# the script that qiime uses for permdisp is permdisp.r in qiime/support_files/R\n",
    "from skbio.stats.distance import permdisp\n",
    "from skbio import DistanceMatrix\n",
    "import numpy as no\n",
    "import pandas as pd\n",
    "from scipy.stats import f_oneway"
   ]
  },
  {
   "cell_type": "code",
   "execution_count": 90,
   "metadata": {
    "collapsed": false
   },
   "outputs": [
    {
     "data": {
      "text/plain": [
       "'/Users/nicolaireeve/Desktop/KnightLabGit/scikit-bio/skbio/stats/distance/tests/test_qiime_compcat'"
      ]
     },
     "execution_count": 90,
     "metadata": {},
     "output_type": "execute_result"
    }
   ],
   "source": [
    "pwd"
   ]
  },
  {
   "cell_type": "code",
   "execution_count": 91,
   "metadata": {
    "collapsed": false
   },
   "outputs": [],
   "source": [
    "# set r10 matrix and mapping file for skbio\n",
    "r10_dm = DistanceMatrix.read('ran_dm10.txt')\n",
    "r10_mf = pd.read_csv('rand_mf10.txt', sep='\\t')\n",
    "r10_mf.set_index('#SampleID', inplace=True)\n",
    "r10_mf.index = r10_mf.index.astype('str')          "
   ]
  },
  {
   "cell_type": "code",
   "execution_count": 92,
   "metadata": {
    "collapsed": false
   },
   "outputs": [
    {
     "name": "stderr",
     "output_type": "stream",
     "text": [
      "/Users/nicolaireeve/Desktop/KnightLabGit/scikit-bio/skbio/stats/ordination/_principal_coordinate_analysis.py:111: RuntimeWarning: The result contains negative eigenvalues. Please compare their magnitude with the magnitude of some of the largest positive eigenvalues. If the negative ones are smaller, it's probably safe to ignore them, but if they are large in magnitude, the results won't be useful. See the Notes section for more details. The smallest eigenvalue is -0.6690970550290325 and the largest is 0.8581202056664433.\n",
      "  RuntimeWarning\n"
     ]
    },
    {
     "data": {
      "text/plain": [
       "method name                 PERMDISP\n",
       "test statistic name          F-value\n",
       "sample size                       10\n",
       "number of groups                   2\n",
       "test statistic            0.00403854\n",
       "p-value                        0.965\n",
       "number of permutations           999\n",
       "Name: PERMDISP results, dtype: object"
      ]
     },
     "execution_count": 92,
     "metadata": {},
     "output_type": "execute_result"
    }
   ],
   "source": [
    "permdisp(r10_dm, r10_mf, column='Treatment')"
   ]
  },
  {
   "cell_type": "code",
   "execution_count": 93,
   "metadata": {
    "collapsed": true
   },
   "outputs": [],
   "source": [
    "# compare_categories.py --method permdisp -i ran_dm10.txt -m rand_mf10.txt -c Treatment -o r10_median -n 999"
   ]
  },
  {
   "cell_type": "code",
   "execution_count": 94,
   "metadata": {
    "collapsed": false
   },
   "outputs": [
    {
     "name": "stdout",
     "output_type": "stream",
     "text": [
      "Analysis of Variance Table\n",
      "\n",
      "Response: Distances\n",
      "          Df   Sum Sq   Mean Sq F value Pr(>F)\n",
      "Groups     1 0.006292 0.0062921  0.3391 0.5764\n",
      "Residuals  8 0.148458 0.0185572               \n",
      "\n",
      "Permutation test for homogeneity of multivariate dispersions\n",
      "Permutation: free\n",
      "Number of permutations: 999\n",
      "\n",
      "Response: Distances\n",
      "          Df   Sum Sq   Mean Sq      F N.Perm Pr(>F)\n",
      "Groups     1 0.006292 0.0062921 0.3391    999  0.523\n",
      "Residuals  8 0.148458 0.0185572                     \n",
      "\n",
      "Pairwise comparisons:\n",
      "(Observed p-value below diagonal, permuted p-value above diagonal)\n",
      "        bar   foo\n",
      "bar         0.565\n",
      "foo 0.57641      \n"
     ]
    }
   ],
   "source": [
    "%%bash\n",
    "cat r10_median/permdisp_results.txt"
   ]
  },
  {
   "cell_type": "code",
   "execution_count": 95,
   "metadata": {
    "collapsed": false
   },
   "outputs": [
    {
     "name": "stderr",
     "output_type": "stream",
     "text": [
      "/Users/nicolaireeve/Desktop/KnightLabGit/scikit-bio/skbio/stats/ordination/_principal_coordinate_analysis.py:111: RuntimeWarning: The result contains negative eigenvalues. Please compare their magnitude with the magnitude of some of the largest positive eigenvalues. If the negative ones are smaller, it's probably safe to ignore them, but if they are large in magnitude, the results won't be useful. See the Notes section for more details. The smallest eigenvalue is -0.6690970550290325 and the largest is 0.8581202056664433.\n",
      "  RuntimeWarning\n"
     ]
    },
    {
     "data": {
      "text/plain": [
       "method name                 PERMDISP\n",
       "test statistic name          F-value\n",
       "sample size                       10\n",
       "number of groups                   2\n",
       "test statistic            0.00827373\n",
       "p-value                        0.954\n",
       "number of permutations           999\n",
       "Name: PERMDISP results, dtype: object"
      ]
     },
     "execution_count": 95,
     "metadata": {},
     "output_type": "execute_result"
    }
   ],
   "source": [
    "permdisp(r10_dm, r10_mf, column='Treatment', test='centroid')"
   ]
  },
  {
   "cell_type": "code",
   "execution_count": 96,
   "metadata": {
    "collapsed": true
   },
   "outputs": [],
   "source": [
    "# compare_categories.py --method permdisp -i ran_dm10.txt -m rand_mf10.txt -c Treatment -o r10_centroid -n 999\n",
    "# I switch the test type for betadisper in permdisp.r"
   ]
  },
  {
   "cell_type": "code",
   "execution_count": 97,
   "metadata": {
    "collapsed": false
   },
   "outputs": [
    {
     "name": "stdout",
     "output_type": "stream",
     "text": [
      "Analysis of Variance Table\n",
      "\n",
      "Response: Distances\n",
      "          Df        Sum Sq       Mean Sq F value  Pr(>F)\n",
      "Groups     1 0.00006233223 0.00006233223 0.00333 0.95543\n",
      "Residuals  8 0.14996933489 0.01874616686                \n",
      "\n",
      "Permutation test for homogeneity of multivariate dispersions\n",
      "Permutation: free\n",
      "Number of permutations: 999\n",
      "\n",
      "Response: Distances\n",
      "          Df        Sum Sq       Mean Sq       F N.Perm Pr(>F)\n",
      "Groups     1 0.00006233223 0.00006233223 0.00333    999  0.933\n",
      "Residuals  8 0.14996933489 0.01874616686                      \n",
      "\n",
      "Pairwise comparisons:\n",
      "(Observed p-value below diagonal, permuted p-value above diagonal)\n",
      "             bar   foo\n",
      "bar              0.965\n",
      "foo 0.9554310399      \n"
     ]
    }
   ],
   "source": [
    "\n",
    "%%bash\n",
    "cat r10_centroid/permdisp_results.txt"
   ]
  },
  {
   "cell_type": "code",
   "execution_count": 98,
   "metadata": {
    "collapsed": true
   },
   "outputs": [],
   "source": [
    "# set r50 matrix and mapping file for skbio\n",
    "r50_dm = DistanceMatrix.read('ran_dm50.txt')\n",
    "r50_mf = pd.read_csv('rand_mf50.txt', sep='\\t')\n",
    "r50_mf.set_index('#SampleID', inplace=True)   \n",
    "r50_mf.index = r50_mf.index.astype('str')  "
   ]
  },
  {
   "cell_type": "code",
   "execution_count": 99,
   "metadata": {
    "collapsed": false
   },
   "outputs": [
    {
     "name": "stderr",
     "output_type": "stream",
     "text": [
      "/Users/nicolaireeve/Desktop/KnightLabGit/scikit-bio/skbio/stats/ordination/_principal_coordinate_analysis.py:111: RuntimeWarning: The result contains negative eigenvalues. Please compare their magnitude with the magnitude of some of the largest positive eigenvalues. If the negative ones are smaller, it's probably safe to ignore them, but if they are large in magnitude, the results won't be useful. See the Notes section for more details. The smallest eigenvalue is -1.8562780367264953 and the largest is 2.024324507293912.\n",
      "  RuntimeWarning\n"
     ]
    },
    {
     "data": {
      "text/plain": [
       "method name                  PERMDISP\n",
       "test statistic name           F-value\n",
       "sample size                        50\n",
       "number of groups                    2\n",
       "test statistic            0.000160538\n",
       "p-value                         0.985\n",
       "number of permutations            999\n",
       "Name: PERMDISP results, dtype: object"
      ]
     },
     "execution_count": 99,
     "metadata": {},
     "output_type": "execute_result"
    }
   ],
   "source": [
    "permdisp(r50_dm, r50_mf, column='Treatment')"
   ]
  },
  {
   "cell_type": "code",
   "execution_count": 100,
   "metadata": {
    "collapsed": true
   },
   "outputs": [],
   "source": [
    "# compare_categories.py --method permdisp -i ran_dm50.txt -m rand_mf50.txt -c Treatment -o r50_median -n 999"
   ]
  },
  {
   "cell_type": "code",
   "execution_count": 101,
   "metadata": {
    "collapsed": false
   },
   "outputs": [
    {
     "name": "stdout",
     "output_type": "stream",
     "text": [
      "Analysis of Variance Table\n",
      "\n",
      "Response: Distances\n",
      "          Df       Sum Sq        Mean Sq F value Pr(>F)\n",
      "Groups     1 0.0004975924 0.000497592422 0.06221 0.8041\n",
      "Residuals 48 0.3839285045 0.007998510510               \n",
      "\n",
      "Permutation test for homogeneity of multivariate dispersions\n",
      "Permutation: free\n",
      "Number of permutations: 999\n",
      "\n",
      "Response: Distances\n",
      "          Df       Sum Sq        Mean Sq       F N.Perm Pr(>F)\n",
      "Groups     1 0.0004975924 0.000497592422 0.06221    999  0.784\n",
      "Residuals 48 0.3839285045 0.007998510510                      \n",
      "\n",
      "Pairwise comparisons:\n",
      "(Observed p-value below diagonal, permuted p-value above diagonal)\n",
      "             bar   foo\n",
      "bar              0.792\n",
      "foo 0.8040997397      \n"
     ]
    }
   ],
   "source": [
    "%%bash\n",
    "cat r50_median/permdisp_results.txt"
   ]
  },
  {
   "cell_type": "code",
   "execution_count": 102,
   "metadata": {
    "collapsed": false
   },
   "outputs": [
    {
     "name": "stderr",
     "output_type": "stream",
     "text": [
      "/Users/nicolaireeve/Desktop/KnightLabGit/scikit-bio/skbio/stats/ordination/_principal_coordinate_analysis.py:111: RuntimeWarning: The result contains negative eigenvalues. Please compare their magnitude with the magnitude of some of the largest positive eigenvalues. If the negative ones are smaller, it's probably safe to ignore them, but if they are large in magnitude, the results won't be useful. See the Notes section for more details. The smallest eigenvalue is -1.8562780367264953 and the largest is 2.024324507293912.\n",
      "  RuntimeWarning\n"
     ]
    },
    {
     "data": {
      "text/plain": [
       "method name                  PERMDISP\n",
       "test statistic name           F-value\n",
       "sample size                        50\n",
       "number of groups                    2\n",
       "test statistic            0.000188755\n",
       "p-value                         0.988\n",
       "number of permutations            999\n",
       "Name: PERMDISP results, dtype: object"
      ]
     },
     "execution_count": 102,
     "metadata": {},
     "output_type": "execute_result"
    }
   ],
   "source": [
    "permdisp(r50_dm, r50_mf, column='Treatment', test='centroid')"
   ]
  },
  {
   "cell_type": "code",
   "execution_count": 103,
   "metadata": {
    "collapsed": true
   },
   "outputs": [],
   "source": [
    "# compare_categories.py --method permdisp -i ran_dm50.txt -m rand_mf50.txt -c Treatment -o r50_centroid -n 999"
   ]
  },
  {
   "cell_type": "code",
   "execution_count": 104,
   "metadata": {
    "collapsed": false
   },
   "outputs": [
    {
     "name": "stdout",
     "output_type": "stream",
     "text": [
      "Analysis of Variance Table\n",
      "\n",
      "Response: Distances\n",
      "          Df       Sum Sq        Mean Sq F value  Pr(>F)\n",
      "Groups     1 0.0006499226 0.000649922640 0.09513 0.75909\n",
      "Residuals 48 0.3279323963 0.006831924924                \n",
      "\n",
      "Permutation test for homogeneity of multivariate dispersions\n",
      "Permutation: free\n",
      "Number of permutations: 999\n",
      "\n",
      "Response: Distances\n",
      "          Df       Sum Sq        Mean Sq       F N.Perm Pr(>F)\n",
      "Groups     1 0.0006499226 0.000649922640 0.09513    999  0.755\n",
      "Residuals 48 0.3279323963 0.006831924924                      \n",
      "\n",
      "Pairwise comparisons:\n",
      "(Observed p-value below diagonal, permuted p-value above diagonal)\n",
      "             bar   foo\n",
      "bar              0.757\n",
      "foo 0.7590883394      \n"
     ]
    }
   ],
   "source": [
    "%%bash\n",
    "cat r50_centroid/permdisp_results.txt"
   ]
  },
  {
   "cell_type": "markdown",
   "metadata": {},
   "source": [
    "# centroid and median permdisp for skin samples distance matrix"
   ]
  },
  {
   "cell_type": "code",
   "execution_count": 107,
   "metadata": {
    "collapsed": false
   },
   "outputs": [],
   "source": [
    "skin_dm = DistanceMatrix.read('keyboard-data/skin_dm.tsv')\n",
    "skin_mf = pd.read_csv('keyboard-data/skin_mapping.txt', sep='\\t')\n",
    "skin_mf.set_index('#SampleID', inplace=True)\n",
    "skin_mf.index = key_mf.index.astype('str')"
   ]
  },
  {
   "cell_type": "code",
   "execution_count": 108,
   "metadata": {
    "collapsed": false
   },
   "outputs": [
    {
     "data": {
      "text/plain": [
       "method name               PERMDISP\n",
       "test statistic name        F-value\n",
       "sample size                     17\n",
       "number of groups                 2\n",
       "test statistic            0.989882\n",
       "p-value                      0.316\n",
       "number of permutations         999\n",
       "Name: PERMDISP results, dtype: object"
      ]
     },
     "execution_count": 108,
     "metadata": {},
     "output_type": "execute_result"
    }
   ],
   "source": [
    "permdisp(skin_dm, skin_mf, column='sample_type')"
   ]
  },
  {
   "cell_type": "code",
   "execution_count": 109,
   "metadata": {
    "collapsed": true
   },
   "outputs": [],
   "source": [
    "# compare_categories.py --method permdisp -i  keyboard-data/skin_dm.tsv -m  'keyboard-data/skin_mapping.txt' -c Treatment -o keyboard_samtype_median -n 999"
   ]
  },
  {
   "cell_type": "code",
   "execution_count": 110,
   "metadata": {
    "collapsed": false
   },
   "outputs": [
    {
     "name": "stdout",
     "output_type": "stream",
     "text": [
      "Analysis of Variance Table\n",
      "\n",
      "Response: Distances\n",
      "          Df        Sum Sq        Mean Sq F value Pr(>F)\n",
      "Groups     1 0.00587360776 0.005873607762  0.9901 0.3355\n",
      "Residuals 15 0.08898536798 0.005932357866               \n",
      "\n",
      "Permutation test for homogeneity of multivariate dispersions\n",
      "Permutation: free\n",
      "Number of permutations: 999\n",
      "\n",
      "Response: Distances\n",
      "          Df        Sum Sq        Mean Sq      F N.Perm Pr(>F)\n",
      "Groups     1 0.00587360776 0.005873607762 0.9901    999  0.351\n",
      "Residuals 15 0.08898536798 0.005932357866                     \n",
      "\n",
      "Pairwise comparisons:\n",
      "(Observed p-value below diagonal, permuted p-value above diagonal)\n",
      "               computer mouse right palm\n",
      "computer mouse                     0.338\n",
      "right palm       0.3355002904           \n"
     ]
    }
   ],
   "source": [
    "%%bash\n",
    "cat keyboard-data/skin_samtype_median/permdisp_results.txt"
   ]
  },
  {
   "cell_type": "code",
   "execution_count": 111,
   "metadata": {
    "collapsed": false
   },
   "outputs": [
    {
     "data": {
      "text/plain": [
       "method name               PERMDISP\n",
       "test statistic name        F-value\n",
       "sample size                     17\n",
       "number of groups                 2\n",
       "test statistic             1.40085\n",
       "p-value                      0.373\n",
       "number of permutations         999\n",
       "Name: PERMDISP results, dtype: object"
      ]
     },
     "execution_count": 111,
     "metadata": {},
     "output_type": "execute_result"
    }
   ],
   "source": [
    "permdisp(skin_dm, skin_mf, column='sample_type', test='centroid')"
   ]
  },
  {
   "cell_type": "code",
   "execution_count": 112,
   "metadata": {
    "collapsed": true
   },
   "outputs": [],
   "source": [
    "# compare_categories.py --method permdisp -i  keyboard-data/skin_dm.tsv -m  'keyboard-data/skin_mapping.txt' -c Treatment -o keyboard_samtype_centroid -n 999"
   ]
  },
  {
   "cell_type": "code",
   "execution_count": 113,
   "metadata": {
    "collapsed": false
   },
   "outputs": [
    {
     "name": "stdout",
     "output_type": "stream",
     "text": [
      "Analysis of Variance Table\n",
      "\n",
      "Response: Distances\n",
      "          Df        Sum Sq        Mean Sq F value Pr(>F)\n",
      "Groups     1 0.00592310951 0.005923109514 1.40085  0.255\n",
      "Residuals 15 0.06342350023 0.004228233348               \n",
      "\n",
      "Permutation test for homogeneity of multivariate dispersions\n",
      "Permutation: free\n",
      "Number of permutations: 999\n",
      "\n",
      "Response: Distances\n",
      "          Df        Sum Sq        Mean Sq       F N.Perm Pr(>F)\n",
      "Groups     1 0.00592310951 0.005923109514 1.40085    999  0.266\n",
      "Residuals 15 0.06342350023 0.004228233348                      \n",
      "\n",
      "Pairwise comparisons:\n",
      "(Observed p-value below diagonal, permuted p-value above diagonal)\n",
      "               computer mouse right palm\n",
      "computer mouse                      0.27\n",
      "right palm       0.2550002437           \n"
     ]
    }
   ],
   "source": [
    "%%bash\n",
    "cat keyboard-data/skin_samtype_centroid/permdisp_results.txt"
   ]
  },
  {
   "cell_type": "code",
   "execution_count": null,
   "metadata": {
    "collapsed": true
   },
   "outputs": [],
   "source": [
    "# lastly this is the random vector that i used to compare scipy f_oneway vs aov and anova in R\n",
    "arr = [[6, 7, 3, 9, 4], [2, 7, 5, 6, 1]]\n",
    "f_oneway(*arr)\n",
    "# the R commands i used to test this are \n",
    "#> v1 = c(6, 7, 3, 9, 4)\n",
    "#> v2 = c(2, 7, 5, 6, 1)\n",
    "#> arr = array(c(v1, v2), dim=c(5,2))\n",
    "#> cols = c(rep('a', 5), rep('b', 5))\n",
    "#> group1 = arr[,1]\n",
    "#> group2 = arr[,2]\n",
    "#> df = data.frame(cbind(group1, group2))\n",
    "#> stackgroups <- stack(df)\n",
    "#> anre <- aov(values~ind, data=stackgroups)\n",
    "#> summary(anre)     //this gives you results of aov\n",
    "#> lm(values~ind, data=stackgroups)\n",
    "#> stlm = lm(values~ind, data=stackgroups)     //this makes a thing that anova can process\n",
    "#> anova(stlm)      //this gives anova results\n",
    "\n"
   ]
  },
  {
   "cell_type": "code",
   "execution_count": null,
   "metadata": {
    "collapsed": true
   },
   "outputs": [],
   "source": []
  }
 ],
 "metadata": {
  "kernelspec": {
   "display_name": "Python 3",
   "language": "python",
   "name": "python3"
  },
  "language_info": {
   "codemirror_mode": {
    "name": "ipython",
    "version": 3
   },
   "file_extension": ".py",
   "mimetype": "text/x-python",
   "name": "python",
   "nbconvert_exporter": "python",
   "pygments_lexer": "ipython3",
   "version": "3.4.5"
  }
 },
 "nbformat": 4,
 "nbformat_minor": 2
}
